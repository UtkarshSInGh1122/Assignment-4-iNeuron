{
  "nbformat": 4,
  "nbformat_minor": 0,
  "metadata": {
    "colab": {
      "provenance": []
    },
    "kernelspec": {
      "name": "python3",
      "display_name": "Python 3"
    },
    "language_info": {
      "name": "python"
    }
  },
  "cells": [
    {
      "cell_type": "markdown",
      "source": [
        "#Assingment 4"
      ],
      "metadata": {
        "id": "Wvzveqcdni9b"
      }
    },
    {
      "cell_type": "markdown",
      "source": [
        "###1) What exactly is []?"
      ],
      "metadata": {
        "id": "xTR8A9HgnvkQ"
      }
    },
    {
      "cell_type": "markdown",
      "source": [
        "- The empty list value, which is a list value that contains no items. This is similar to how '' is the empty string value."
      ],
      "metadata": {
        "id": "ew9tsKGdn2mf"
      }
    },
    {
      "cell_type": "markdown",
      "source": [
        "###2) In a list of values stored in a variable called spam, how would you assign the value 'hello' as the third value? (Assume [2, 4, 6, 8, 10] are in spam.)\n"
      ],
      "metadata": {
        "id": "ogJuT9jooEgL"
      }
    },
    {
      "cell_type": "code",
      "source": [
        "spam = [2,4,6,8,10]"
      ],
      "metadata": {
        "id": "Q9KAvl_woG29"
      },
      "execution_count": 3,
      "outputs": []
    },
    {
      "cell_type": "code",
      "source": [
        "spam[2]=\"hello\""
      ],
      "metadata": {
        "id": "FgWdRJrnogRA"
      },
      "execution_count": 4,
      "outputs": []
    },
    {
      "cell_type": "code",
      "source": [
        "spam"
      ],
      "metadata": {
        "colab": {
          "base_uri": "https://localhost:8080/"
        },
        "id": "37XyKynwoqFe",
        "outputId": "49071230-cfee-4b3d-d400-d7cfd2919865"
      },
      "execution_count": 5,
      "outputs": [
        {
          "output_type": "execute_result",
          "data": {
            "text/plain": [
              "[2, 4, 'hello', 8, 10]"
            ]
          },
          "metadata": {},
          "execution_count": 5
        }
      ]
    },
    {
      "cell_type": "markdown",
      "source": [
        "###- Let's pretend the spam includes the list ['a', 'b', 'c', 'd'] for the next three queries."
      ],
      "metadata": {
        "id": "TWIlj1ZurULe"
      }
    },
    {
      "cell_type": "markdown",
      "source": [
        "###3) What is the value of spam[int(int('3' * 2) / 11)]?"
      ],
      "metadata": {
        "id": "RYSrUazspE8i"
      }
    },
    {
      "cell_type": "code",
      "source": [
        "[int(int('3' * 2) / 11)]"
      ],
      "metadata": {
        "colab": {
          "base_uri": "https://localhost:8080/"
        },
        "id": "TjXmoG7mpGKK",
        "outputId": "5f56dbda-b05e-4422-ded5-3ad2f0cb5159"
      },
      "execution_count": 9,
      "outputs": [
        {
          "output_type": "execute_result",
          "data": {
            "text/plain": [
              "[3]"
            ]
          },
          "metadata": {},
          "execution_count": 9
        }
      ]
    },
    {
      "cell_type": "markdown",
      "source": [
        "- 'd' "
      ],
      "metadata": {
        "id": "Imb6qZlJp5xz"
      }
    },
    {
      "cell_type": "markdown",
      "source": [
        "###4) What is the value of spam[-1]?"
      ],
      "metadata": {
        "id": "bTJKsyJJqQy-"
      }
    },
    {
      "cell_type": "code",
      "source": [
        " spam[-1]"
      ],
      "metadata": {
        "colab": {
          "base_uri": "https://localhost:8080/"
        },
        "id": "WV3iqdn-qTBa",
        "outputId": "c03d2271-3b3f-4ca6-c4a2-85c0bf4cd166"
      },
      "execution_count": 7,
      "outputs": [
        {
          "output_type": "execute_result",
          "data": {
            "text/plain": [
              "10"
            ]
          },
          "metadata": {},
          "execution_count": 7
        }
      ]
    },
    {
      "cell_type": "markdown",
      "source": [
        "- 'd' (Negative indexes count from the end.)"
      ],
      "metadata": {
        "id": "KWfQaV7uqdv5"
      }
    },
    {
      "cell_type": "markdown",
      "source": [
        "###5) What is the value of spam[:2]?\n"
      ],
      "metadata": {
        "id": "Oq4QIeXIqoKa"
      }
    },
    {
      "cell_type": "markdown",
      "source": [
        "- ['a', 'b']"
      ],
      "metadata": {
        "id": "ezOqCZedq6QU"
      }
    },
    {
      "cell_type": "markdown",
      "source": [
        "###- Let's pretend bacon has the list [3.14, 'cat,' 11, 'cat,' True] for the next three questions."
      ],
      "metadata": {
        "id": "XNEx8HjGrb13"
      }
    },
    {
      "cell_type": "code",
      "source": [
        "bacon = [3.14, 'cat', 11, 'cat', True]"
      ],
      "metadata": {
        "id": "6lAeFs3Fr2B6"
      },
      "execution_count": 14,
      "outputs": []
    },
    {
      "cell_type": "markdown",
      "source": [
        "###6) What is the value of bacon.index('cat')?"
      ],
      "metadata": {
        "id": "OSTqd2_brqNE"
      }
    },
    {
      "cell_type": "markdown",
      "source": [
        "- '1'"
      ],
      "metadata": {
        "id": "cott3gS1sD20"
      }
    },
    {
      "cell_type": "markdown",
      "source": [
        "###7) How does bacon.append(99) change the look of the list value in bacon?"
      ],
      "metadata": {
        "id": "B7ohKAZvsNb6"
      }
    },
    {
      "cell_type": "code",
      "source": [
        "bacon"
      ],
      "metadata": {
        "colab": {
          "base_uri": "https://localhost:8080/"
        },
        "id": "GVAi_n_yrde6",
        "outputId": "ea16244d-2b59-4f32-a5b5-9111ade0f55a"
      },
      "execution_count": 16,
      "outputs": [
        {
          "output_type": "execute_result",
          "data": {
            "text/plain": [
              "[3.14, 'cat', 11, 'cat', True]"
            ]
          },
          "metadata": {},
          "execution_count": 16
        }
      ]
    },
    {
      "cell_type": "code",
      "source": [
        "bacon.append(99)"
      ],
      "metadata": {
        "id": "J5AWwWD8sZw8"
      },
      "execution_count": 17,
      "outputs": []
    },
    {
      "cell_type": "code",
      "source": [
        "bacon"
      ],
      "metadata": {
        "colab": {
          "base_uri": "https://localhost:8080/"
        },
        "id": "91Cz24v9sdCd",
        "outputId": "1bb4fea7-029a-4a0c-ed6d-eec9263b6fba"
      },
      "execution_count": 18,
      "outputs": [
        {
          "output_type": "execute_result",
          "data": {
            "text/plain": [
              "[3.14, 'cat', 11, 'cat', True, 99]"
            ]
          },
          "metadata": {},
          "execution_count": 18
        }
      ]
    },
    {
      "cell_type": "markdown",
      "source": [
        "- [3.14, 'cat', 11, 'cat', True, 99]"
      ],
      "metadata": {
        "id": "cUZfkLpIs6EE"
      }
    },
    {
      "cell_type": "markdown",
      "source": [
        "###8) How does bacon.remove('cat') change the look of the list in bacon?"
      ],
      "metadata": {
        "id": "m3p7QtRItDM7"
      }
    },
    {
      "cell_type": "code",
      "source": [
        "bacon"
      ],
      "metadata": {
        "id": "TZFAS5p3tIAP",
        "outputId": "48d760a0-b321-4096-962a-04ad25768d4d",
        "colab": {
          "base_uri": "https://localhost:8080/"
        }
      },
      "execution_count": 19,
      "outputs": [
        {
          "output_type": "execute_result",
          "data": {
            "text/plain": [
              "[3.14, 'cat', 11, 'cat', True, 99]"
            ]
          },
          "metadata": {},
          "execution_count": 19
        }
      ]
    },
    {
      "cell_type": "code",
      "source": [
        "bacon.remove('cat')"
      ],
      "metadata": {
        "id": "GZnIs0FJtJcy"
      },
      "execution_count": 22,
      "outputs": []
    },
    {
      "cell_type": "code",
      "source": [
        "bacon"
      ],
      "metadata": {
        "id": "M9WnVSYUtNHb",
        "outputId": "2e02f9ca-ed51-4524-ec6e-7b479190a285",
        "colab": {
          "base_uri": "https://localhost:8080/"
        }
      },
      "execution_count": 23,
      "outputs": [
        {
          "output_type": "execute_result",
          "data": {
            "text/plain": [
              "[3.14, 11, True, 99]"
            ]
          },
          "metadata": {},
          "execution_count": 23
        }
      ]
    },
    {
      "cell_type": "markdown",
      "source": [
        "- [3.14, 11, True, 99]"
      ],
      "metadata": {
        "id": "5YPyYqG5tcqT"
      }
    },
    {
      "cell_type": "markdown",
      "source": [
        "###9) What are the list concatenation and list replication operators?"
      ],
      "metadata": {
        "id": "alURpO1wtzHL"
      }
    },
    {
      "cell_type": "markdown",
      "source": [
        "- The operator for list concatenation is +, while the operator for replication is *. (This is the same as for strings.)"
      ],
      "metadata": {
        "id": "i6TABfJQt58u"
      }
    },
    {
      "cell_type": "markdown",
      "source": [
        "###10) What is difference between the list methods append() and insert()?"
      ],
      "metadata": {
        "id": "biCl9_Yjt9bh"
      }
    },
    {
      "cell_type": "markdown",
      "source": [
        "- While append() will add values only to the end of a list, insert() can add them anywhere in the list."
      ],
      "metadata": {
        "id": "bXgNhIT5uHtB"
      }
    },
    {
      "cell_type": "markdown",
      "source": [
        "###11) What are the two methods for removing items from a list?"
      ],
      "metadata": {
        "id": "0JZXWZgbujjF"
      }
    },
    {
      "cell_type": "markdown",
      "source": [
        "- The del statement and the remove() list method are two ways to remove values from a list."
      ],
      "metadata": {
        "id": "ZRHEVHoYuxcJ"
      }
    },
    {
      "cell_type": "markdown",
      "source": [
        "###12) Describe how list values and string values are identical."
      ],
      "metadata": {
        "id": "pI9ldTLyuyuI"
      }
    },
    {
      "cell_type": "markdown",
      "source": [
        "- Both lists and strings can be passed to len(), have indexes and slices, be used in for loops, be concatenated or replicated, and be used with the in and not in operators."
      ],
      "metadata": {
        "id": "FAYHbuzfvNoh"
      }
    },
    {
      "cell_type": "markdown",
      "source": [
        "###13) What's the difference between tuples and lists?"
      ],
      "metadata": {
        "id": "UbA5z1EWvP4A"
      }
    },
    {
      "cell_type": "markdown",
      "source": [
        "- Lists are mutable; they can have values added, removed, or changed. \n",
        "- Tuples are immutable; they cannot be changed at all. Also, tuples are written using parentheses, ( and ), while lists use the square brackets, [ and ]."
      ],
      "metadata": {
        "id": "e6jyN_3Pvb7R"
      }
    },
    {
      "cell_type": "markdown",
      "source": [
        "###14) How do you type a tuple value that only contains the integer 42?"
      ],
      "metadata": {
        "id": "sQnmj36mvouR"
      }
    },
    {
      "cell_type": "markdown",
      "source": [
        "- (42,) (The trailing comma is mandatory.)"
      ],
      "metadata": {
        "id": "LBYdhVOVvzWB"
      }
    },
    {
      "cell_type": "markdown",
      "source": [
        "###15) How do you get a list value's tuple form? How do you get a tuple value's list form?"
      ],
      "metadata": {
        "id": "dwT1ia5av3bK"
      }
    },
    {
      "cell_type": "markdown",
      "source": [
        "- The tuple() and list() functions, respectively\n"
      ],
      "metadata": {
        "id": "Kap2aoJBwCVn"
      }
    },
    {
      "cell_type": "markdown",
      "source": [
        "###16) . Variables that \"contain\" list values are not necessarily lists themselves. Instead, what do they contain?"
      ],
      "metadata": {
        "id": "qtOT2C6iwCMB"
      }
    },
    {
      "cell_type": "markdown",
      "source": [
        "- They contain references to list values."
      ],
      "metadata": {
        "id": "pNLDb-zuwTDj"
      }
    },
    {
      "cell_type": "markdown",
      "source": [
        "###17) How do you distinguish between copy.copy() and copy.deepcopy()?"
      ],
      "metadata": {
        "id": "Uoq0dcYtwU8y"
      }
    },
    {
      "cell_type": "markdown",
      "source": [
        "- The copy.copy() function will do a shallow copy of a list, while the copy.deepcopy() function will do a deep copy of a list. That is, only copy.deepcopy() will duplicate any lists inside the list."
      ],
      "metadata": {
        "id": "MOuCP8_QwUxO"
      }
    }
  ]
}